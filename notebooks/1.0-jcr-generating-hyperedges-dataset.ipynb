{
 "cells": [
  {
   "cell_type": "markdown",
   "metadata": {},
   "source": [
    "# Hyperedges Generation\n",
    "\n",
    "We are preprocessing the tissue into patches to use in inference time"
   ]
  },
  {
   "cell_type": "code",
   "execution_count": 12,
   "metadata": {},
   "outputs": [],
   "source": [
    "import argparse\n",
    "import torch\n",
    "import numpy as np\n",
    "import os\n",
    "import sys\n",
    "from tqdm import tqdm\n",
    "from torch_geometric.loader import DataLoader\n",
    "from sklearn.metrics import roc_auc_score, accuracy_score\n",
    "\n",
    "import_dir = '..'\n",
    "\n",
    "sys.path.insert(0, import_dir + '/src/model/')\n",
    "from hypergraph_scattering import HypergraphScatteringNet\n",
    "\n",
    "sys.path.insert(0, import_dir + '/src/utils/')\n",
    "from seed import seed_everything\n",
    "from log_utils import log\n",
    "from data_utils import split_dataset\n",
    "from scheduler import LinearWarmupCosineAnnealingLR\n",
    "\n",
    "sys.path.insert(0, import_dir + '/src/dataset/')\n",
    "from placenta import PlacentaDatasetHypergraph\n",
    "from mibi import MIBIDatasetHypergraph\n",
    "from extend import ExtendedDataset"
   ]
  },
  {
   "cell_type": "code",
   "execution_count": 13,
   "metadata": {},
   "outputs": [],
   "source": [
    "def prepare_dataloaders(args):\n",
    "    if args.dataset == 'placenta':\n",
    "        dataset = PlacentaDatasetHypergraph(data_folder=args.data_folder, k_hop=args.k_hop)\n",
    "    elif args.dataset == 'mibi':\n",
    "        dataset = MIBIDatasetHypergraph(data_folder=args.data_folder, k_hop=args.k_hop)\n",
    "\n",
    "    # Train/val/test split\n",
    "    ratios = [float(c) for c in args.train_val_test_ratio.split(':')]\n",
    "    ratios = tuple([c / sum(ratios) for c in ratios])\n",
    "\n",
    "    train_set, val_set, test_set = split_dataset(\n",
    "        dataset=dataset,\n",
    "        splits=ratios,\n",
    "        random_seed=0)  # Fix the dataset.\n",
    "\n",
    "    min_batch_per_epoch = 5\n",
    "    desired_len = args.batch_size * min_batch_per_epoch\n",
    "    if len(dataset) < desired_len:\n",
    "        train_set = ExtendedDataset(dataset=train_set, desired_len=desired_len)\n",
    "\n",
    "    train_loader = DataLoader(train_set, batch_size=args.batch_size, shuffle=True)\n",
    "    val_loader = DataLoader(val_set, batch_size=args.batch_size, shuffle=False)\n",
    "    test_loader = DataLoader(test_set, batch_size=args.batch_size, shuffle=False)\n",
    "    return train_loader, val_loader, test_loader, dataset"
   ]
  },
  {
   "cell_type": "code",
   "execution_count": 24,
   "metadata": {},
   "outputs": [
    {
     "name": "stdout",
     "output_type": "stream",
     "text": [
      "mibi\n"
     ]
    },
    {
     "data": {
      "text/plain": [
       "(<torch_geometric.loader.dataloader.DataLoader at 0x306882520>,\n",
       " <torch_geometric.loader.dataloader.DataLoader at 0x306882f40>,\n",
       " <torch_geometric.loader.dataloader.DataLoader at 0x306841eb0>,\n",
       " <mibi.MIBIDatasetHypergraph at 0x306882a90>)"
      ]
     },
     "execution_count": 24,
     "metadata": {},
     "output_type": "execute_result"
    }
   ],
   "source": [
    "from types import SimpleNamespace\n",
    "args = SimpleNamespace(\n",
    "    train_val_test_ratio= '6:2:2',\n",
    "    max_epochs= 50,\n",
    "    max_training_iters= 64,\n",
    "    max_validation_iters= 64,\n",
    "    batch_size= 128,\n",
    "    desired_batch_size= 256,\n",
    "    learning_rate= 0.001,\n",
    "    trainable_scales= True,\n",
    "    k_hop= 1,\n",
    "    num_workers= 8,\n",
    "    random_seed= 1,\n",
    "    dataset= 'mibi',\n",
    "    data_folder= '../data/MIBI/patchified_all_genes/',\n",
    "    num_features= 29\n",
    ")\n",
    "print(args.dataset)\n",
    "\n",
    "prepare_dataloaders(args)"
   ]
  }
 ],
 "metadata": {
  "kernelspec": {
   "display_name": "hypergraph-new",
   "language": "python",
   "name": "python3"
  },
  "language_info": {
   "codemirror_mode": {
    "name": "ipython",
    "version": 3
   },
   "file_extension": ".py",
   "mimetype": "text/x-python",
   "name": "python",
   "nbconvert_exporter": "python",
   "pygments_lexer": "ipython3",
   "version": "3.9.21"
  }
 },
 "nbformat": 4,
 "nbformat_minor": 2
}
